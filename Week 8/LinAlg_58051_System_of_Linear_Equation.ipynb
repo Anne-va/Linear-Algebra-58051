{
  "nbformat": 4,
  "nbformat_minor": 0,
  "metadata": {
    "colab": {
      "name": "LinAlg_58051_System of Linear Equation.ipynb",
      "provenance": [],
      "authorship_tag": "ABX9TyNT/xul3OuR+xaXV34R3OlM",
      "include_colab_link": true
    },
    "kernelspec": {
      "name": "python3",
      "display_name": "Python 3"
    },
    "language_info": {
      "name": "python"
    }
  },
  "cells": [
    {
      "cell_type": "markdown",
      "metadata": {
        "id": "view-in-github",
        "colab_type": "text"
      },
      "source": [
        "<a href=\"https://colab.research.google.com/github/Anne-va/Linear-Algebra-58051/blob/main/Week%208/LinAlg_58051_System_of_Linear_Equation.ipynb\" target=\"_parent\"><img src=\"https://colab.research.google.com/assets/colab-badge.svg\" alt=\"Open In Colab\"/></a>"
      ]
    },
    {
      "cell_type": "markdown",
      "metadata": {
        "id": "sW_MyqdKmzRq"
      },
      "source": [
        ""
      ]
    },
    {
      "cell_type": "markdown",
      "metadata": {
        "id": "VqYPZbQLm0O4"
      },
      "source": [
        "$$ P = \\left\\{ \\begin{array}\\\\ 7p+8a+3g=9\\\\ -6p-8a+4g=-3 \\\\ 1p+5a+4g=1 \\end{array} \\right. $$"
      ]
    },
    {
      "cell_type": "code",
      "metadata": {
        "id": "d-O3Os-rnGhD"
      },
      "source": [
        "import numpy as np"
      ],
      "execution_count": 1,
      "outputs": []
    },
    {
      "cell_type": "code",
      "metadata": {
        "colab": {
          "base_uri": "https://localhost:8080/"
        },
        "id": "nRCZS0eWmrq1",
        "outputId": "78006666-5914-4bcc-a1ec-e01fae0ba6e9"
      },
      "source": [
        "P = np.array([[7,8,3],\n",
        "              [-6,-8,4],\n",
        "              [1,5,4]\n",
        "])\n",
        "\n",
        "A = np.array([[9],\n",
        "              [-3],\n",
        "              [1],\n",
        "])\n",
        "\n",
        "print(\"Matrix P: \\n\", P)\n",
        "print(\"\\nMatrix A: \\n\", A)\n",
        "\n",
        "P_inv = np.linalg.inv(P)\n",
        "print(\"\\nResults: \")\n",
        "print(P_inv @ A)"
      ],
      "execution_count": 2,
      "outputs": [
        {
          "output_type": "stream",
          "text": [
            "Matrix P: \n",
            " [[ 7  8  3]\n",
            " [-6 -8  4]\n",
            " [ 1  5  4]]\n",
            "\n",
            "Matrix A: \n",
            " [[ 9]\n",
            " [-3]\n",
            " [ 1]]\n",
            "\n",
            "Results: \n",
            "[[ 1.75242718]\n",
            " [-0.63592233]\n",
            " [ 0.60679612]]\n"
          ],
          "name": "stdout"
        }
      ]
    },
    {
      "cell_type": "code",
      "metadata": {
        "colab": {
          "base_uri": "https://localhost:8080/"
        },
        "id": "y-x6Av82m7SJ",
        "outputId": "e6dd07a2-45c0-417e-f5f1-cb294f4e0966"
      },
      "source": [
        "P_inv1 = np.linalg.solve(P,A)\n",
        "\n",
        "print(\"Matrix P: \\n\", P)\n",
        "print(\"\\nMatrix A: \\n\", A)\n",
        "\n",
        "print(\"\\nResults: \")\n",
        "print(P_inv1)"
      ],
      "execution_count": 3,
      "outputs": [
        {
          "output_type": "stream",
          "text": [
            "Matrix P: \n",
            " [[ 7  8  3]\n",
            " [-6 -8  4]\n",
            " [ 1  5  4]]\n",
            "\n",
            "Matrix A: \n",
            " [[ 9]\n",
            " [-3]\n",
            " [ 1]]\n",
            "\n",
            "Results: \n",
            "[[ 1.75242718]\n",
            " [-0.63592233]\n",
            " [ 0.60679612]]\n"
          ],
          "name": "stdout"
        }
      ]
    },
    {
      "cell_type": "code",
      "metadata": {
        "id": "BcIlW7YMm_CL"
      },
      "source": [
        ""
      ],
      "execution_count": null,
      "outputs": []
    }
  ]
}