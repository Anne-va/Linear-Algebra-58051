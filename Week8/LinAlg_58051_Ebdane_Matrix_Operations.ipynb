{
  "nbformat": 4,
  "nbformat_minor": 0,
  "metadata": {
    "colab": {
      "name": "LinAlg_58051_Ebdane_Matrix Operations",
      "provenance": [],
      "collapsed_sections": [],
      "authorship_tag": "ABX9TyPsiR2C8Qfe6OTiOvLOpT51",
      "include_colab_link": true
    },
    "kernelspec": {
      "name": "python3",
      "display_name": "Python 3"
    },
    "language_info": {
      "name": "python"
    }
  },
  "cells": [
    {
      "cell_type": "markdown",
      "metadata": {
        "id": "view-in-github",
        "colab_type": "text"
      },
      "source": [
        "<a href=\"https://colab.research.google.com/github/Anne-va/Linear-Algebra-58051/blob/main/Week8/LinAlg_58051_Ebdane_Matrix_Operations.ipynb\" target=\"_parent\"><img src=\"https://colab.research.google.com/assets/colab-badge.svg\" alt=\"Open In Colab\"/></a>"
      ]
    },
    {
      "cell_type": "code",
      "metadata": {
        "id": "BmZOXpcZCvBf"
      },
      "source": [
        "import numpy as np"
      ],
      "execution_count": 3,
      "outputs": []
    },
    {
      "cell_type": "code",
      "metadata": {
        "id": "_dzuio8VV3UN"
      },
      "source": [
        "matrix_5 = np.array ([ [3, 8, 9],\n",
        "                       [2, 7, 5],\n",
        "                       [1, 9, 4],\n",
        "                      ])\n",
        "matrix_6 = np.array ([ [6, 7, 2],\n",
        "                       [3, 6, 9],\n",
        "                       [5, 9, 2],\n",
        "                      ])\n",
        "matrix_7 = np.array ([ [4, 9, 5],\n",
        "                       [ 3, 2, 7],\n",
        "                       [9, 5, 6],\n",
        "                      ])"
      ],
      "execution_count": 4,
      "outputs": []
    },
    {
      "cell_type": "code",
      "metadata": {
        "id": "IU9iYdHjWl5b"
      },
      "source": [
        ""
      ],
      "execution_count": null,
      "outputs": []
    },
    {
      "cell_type": "markdown",
      "metadata": {
        "id": "1AY6Q4b_XMY9"
      },
      "source": [
        "\n",
        "  **COMMUTATIVE PROPERTY**\n",
        "\n",
        "\n",
        "\n",
        "$\n",
        "AB \\neq BA$"
      ]
    },
    {
      "cell_type": "code",
      "metadata": {
        "colab": {
          "base_uri": "https://localhost:8080/"
        },
        "id": "nOhVfZ4SXNca",
        "outputId": "46babdde-1a94-4584-f236-70b0fc577f84"
      },
      "source": [
        "AB = matrix_5 @ matrix_6\n",
        "BA = matrix_6 @ matrix_5\n",
        "\n",
        "print(\"AB = \\n\", AB)\n",
        "\n",
        "print(\"AB = \\n\", BA)\n",
        "\n",
        " \n",
        "\n",
        "\n",
        " \n",
        "\n"
      ],
      "execution_count": null,
      "outputs": [
        {
          "output_type": "stream",
          "text": [
            "AB = \n",
            " [[ 87 150  96]\n",
            " [ 58 101  77]\n",
            " [ 53  97  91]]\n",
            "AB = \n",
            " [[ 34 115  97]\n",
            " [ 30 147  93]\n",
            " [ 35 121  98]]\n"
          ],
          "name": "stdout"
        }
      ]
    },
    {
      "cell_type": "markdown",
      "metadata": {
        "id": "iRcJoH5Uf7W3"
      },
      "source": [
        " **ASSIOCIATIVE PROPERTY**\n",
        "\n",
        "$(PE)A = B(EG)$"
      ]
    },
    {
      "cell_type": "code",
      "metadata": {
        "id": "R141C8axZnZm"
      },
      "source": [
        "PE_A = (matrix_5 @ matrix_6) @ matrix_7\n",
        "\n"
      ],
      "execution_count": null,
      "outputs": []
    },
    {
      "cell_type": "code",
      "metadata": {
        "id": "3OXj4dvsyGUM"
      },
      "source": [
        "B_EG = matrix_5 @ (matrix_6 @ matrix_7)"
      ],
      "execution_count": null,
      "outputs": []
    },
    {
      "cell_type": "code",
      "metadata": {
        "colab": {
          "base_uri": "https://localhost:8080/"
        },
        "id": "1U5LhXbDyuFR",
        "outputId": "04572ae3-c058-41e1-8df1-81c6a479dbc8"
      },
      "source": [
        "print(\"(PE)A: \\n\", PE_A)"
      ],
      "execution_count": null,
      "outputs": [
        {
          "output_type": "stream",
          "text": [
            "(PE)A: \n",
            " [[1662 1563 2061]\n",
            " [1228 1109 1459]\n",
            " [1322 1126 1490]]\n"
          ],
          "name": "stdout"
        }
      ]
    },
    {
      "cell_type": "code",
      "metadata": {
        "colab": {
          "base_uri": "https://localhost:8080/"
        },
        "id": "CALkKIYNzFV1",
        "outputId": "1e424967-03af-4d5f-e533-ef863b4fa2f1"
      },
      "source": [
        "print(\"B(EG): \\n\", B_EG)"
      ],
      "execution_count": null,
      "outputs": [
        {
          "output_type": "stream",
          "text": [
            "B(EG): \n",
            " [[1662 1563 2061]\n",
            " [1228 1109 1459]\n",
            " [1322 1126 1490]]\n"
          ],
          "name": "stdout"
        }
      ]
    },
    {
      "cell_type": "code",
      "metadata": {
        "colab": {
          "base_uri": "https://localhost:8080/"
        },
        "id": "Si2reG52zjIh",
        "outputId": "49df9046-34d5-4ca2-e92b-7542dfff3dcd"
      },
      "source": [
        "np.array_equiv(PE_A, B_EG)"
      ],
      "execution_count": null,
      "outputs": [
        {
          "output_type": "execute_result",
          "data": {
            "text/plain": [
              "True"
            ]
          },
          "metadata": {
            "tags": []
          },
          "execution_count": 22
        }
      ]
    },
    {
      "cell_type": "markdown",
      "metadata": {
        "id": "8tl5mPk22gL7"
      },
      "source": [
        "**DISTRIBUTIVE PROPERTY**\n",
        "\n",
        "$A(P+E) = AP+AE$"
      ]
    },
    {
      "cell_type": "code",
      "metadata": {
        "id": "THk4ABSRz5aV"
      },
      "source": [
        "A_PE = matrix_5 @ (matrix_6 + matrix_7) \n",
        "AP_AE = (matrix_5 @ matrix_6)+ (matrix_5 @ matrix_7)"
      ],
      "execution_count": null,
      "outputs": []
    },
    {
      "cell_type": "code",
      "metadata": {
        "colab": {
          "base_uri": "https://localhost:8080/"
        },
        "id": "Qu2yV-jP2ZBf",
        "outputId": "ee367a50-d7fd-4a34-efb4-e32413ab062e"
      },
      "source": [
        "print(\"A(P+E): \\n\", A_PE)"
      ],
      "execution_count": null,
      "outputs": [
        {
          "output_type": "stream",
          "text": [
            "A(P+E): \n",
            " [[204 238 221]\n",
            " [132 158 166]\n",
            " [120 144 183]]\n"
          ],
          "name": "stdout"
        }
      ]
    },
    {
      "cell_type": "code",
      "metadata": {
        "colab": {
          "base_uri": "https://localhost:8080/"
        },
        "id": "WYdAjRge3V-H",
        "outputId": "bc3aa646-caff-4a72-a422-aa29f020b2b9"
      },
      "source": [
        "print(\"AP+AE: \\n\", AP_AE)"
      ],
      "execution_count": null,
      "outputs": [
        {
          "output_type": "stream",
          "text": [
            "AP+AE: \n",
            " [[204 238 221]\n",
            " [132 158 166]\n",
            " [120 144 183]]\n"
          ],
          "name": "stdout"
        }
      ]
    },
    {
      "cell_type": "code",
      "metadata": {
        "colab": {
          "base_uri": "https://localhost:8080/"
        },
        "id": "sc5ZoLji3zCP",
        "outputId": "bca608c7-72ba-4fc1-eff6-91804311f1c3"
      },
      "source": [
        "np.array_equiv(A_PE, AP_AE)"
      ],
      "execution_count": null,
      "outputs": [
        {
          "output_type": "execute_result",
          "data": {
            "text/plain": [
              "True"
            ]
          },
          "metadata": {
            "tags": []
          },
          "execution_count": 30
        }
      ]
    },
    {
      "cell_type": "markdown",
      "metadata": {
        "id": "re6LymlT4H7J"
      },
      "source": [
        "**MULTIPLICATIVE IDENTITY PROPERTY**\n",
        "\n",
        "$IP = P$"
      ]
    },
    {
      "cell_type": "code",
      "metadata": {
        "id": "NwWpTi9W4E8I"
      },
      "source": [
        "I = np.eye(3, dtype = int)\n",
        "IP = I @ matrix_5"
      ],
      "execution_count": null,
      "outputs": []
    },
    {
      "cell_type": "code",
      "metadata": {
        "colab": {
          "base_uri": "https://localhost:8080/"
        },
        "id": "aZ2FvKS84jan",
        "outputId": "500f95aa-1ce0-4702-af61-c5cf6ecefa58"
      },
      "source": [
        "print(\"IP: \\n\", IP)"
      ],
      "execution_count": null,
      "outputs": [
        {
          "output_type": "stream",
          "text": [
            "IP: \n",
            " [[3 8 9]\n",
            " [2 7 5]\n",
            " [1 9 4]]\n"
          ],
          "name": "stdout"
        }
      ]
    },
    {
      "cell_type": "markdown",
      "metadata": {
        "id": "0mOAQ2M-ROnv"
      },
      "source": [
        "**TRANSPORSATION PROPERTY OF MULTIPLICATION**\n",
        "\n",
        "$P\\cdot P^{-1}= I$\n",
        "\n",
        "---\n",
        "\n"
      ]
    },
    {
      "cell_type": "code",
      "metadata": {
        "id": "gilFs9Za5I01"
      },
      "source": [
        "matrix_5 = matrix_5 @ np.linalg.inv(matrix_5)\n",
        "I_1 = np.eye(3, dtype= int)"
      ],
      "execution_count": 9,
      "outputs": []
    },
    {
      "cell_type": "code",
      "metadata": {
        "colab": {
          "base_uri": "https://localhost:8080/"
        },
        "id": "_0dWH_A8QctT",
        "outputId": "f63a5386-9593-449b-9e68-3a52b9ef6aa9"
      },
      "source": [
        "print(\"A(A inv) = \\n\", matrix_5.astype(int))\n",
        "print(\"I = \\n\", I_1)"
      ],
      "execution_count": 11,
      "outputs": [
        {
          "output_type": "stream",
          "text": [
            "A(A inv) = \n",
            " [[1 0 0]\n",
            " [0 1 0]\n",
            " [0 0 1]]\n",
            "I = \n",
            " [[1 0 0]\n",
            " [0 1 0]\n",
            " [0 0 1]]\n"
          ],
          "name": "stdout"
        }
      ]
    },
    {
      "cell_type": "code",
      "metadata": {
        "colab": {
          "base_uri": "https://localhost:8080/"
        },
        "id": "qj3lbSA1Rljv",
        "outputId": "971e2cca-6df5-43d8-fa5d-ea2fe918115e"
      },
      "source": [
        "np.array_equal(matrix_5, I_1)"
      ],
      "execution_count": 12,
      "outputs": [
        {
          "output_type": "execute_result",
          "data": {
            "text/plain": [
              "True"
            ]
          },
          "metadata": {
            "tags": []
          },
          "execution_count": 12
        }
      ]
    },
    {
      "cell_type": "markdown",
      "metadata": {
        "id": "JoRKtlQU22Ge"
      },
      "source": [
        "MULTIPLICATIVE PROPERTY OF ZERO\n",
        "\n",
        "$P0=0$"
      ]
    },
    {
      "cell_type": "code",
      "metadata": {
        "id": "X3DhAi7D26g3"
      },
      "source": [
        "import numpy as np \n",
        "zero = np.zeros(matrix_5.shape)\n",
        "P_zero = matrix_5 @ zero"
      ],
      "execution_count": 13,
      "outputs": []
    },
    {
      "cell_type": "code",
      "metadata": {
        "colab": {
          "base_uri": "https://localhost:8080/"
        },
        "id": "l8KB77mM3jjb",
        "outputId": "b4b828e3-3a02-4530-a03e-07736eae3218"
      },
      "source": [
        "print(\"P0 = \\n\" , P_zero)\n",
        "print(\"zero = \\n\", zero)"
      ],
      "execution_count": 14,
      "outputs": [
        {
          "output_type": "stream",
          "text": [
            "P0 = \n",
            " [[0. 0. 0.]\n",
            " [0. 0. 0.]\n",
            " [0. 0. 0.]]\n",
            "zero = \n",
            " [[0. 0. 0.]\n",
            " [0. 0. 0.]\n",
            " [0. 0. 0.]]\n"
          ],
          "name": "stdout"
        }
      ]
    }
  ]
}