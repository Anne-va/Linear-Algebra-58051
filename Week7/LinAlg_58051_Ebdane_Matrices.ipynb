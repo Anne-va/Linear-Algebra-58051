{
  "nbformat": 4,
  "nbformat_minor": 0,
  "metadata": {
    "colab": {
      "name": "LinAlg_58051_Ebdane_Matrices",
      "provenance": [],
      "collapsed_sections": [],
      "authorship_tag": "ABX9TyMTNlQAXQZElZ8wY1x8hFKW",
      "include_colab_link": true
    },
    "kernelspec": {
      "name": "python3",
      "display_name": "Python 3"
    },
    "language_info": {
      "name": "python"
    }
  },
  "cells": [
    {
      "cell_type": "markdown",
      "metadata": {
        "id": "view-in-github",
        "colab_type": "text"
      },
      "source": [
        "<a href=\"https://colab.research.google.com/github/Anne-va/Linear-Algebra-58051/blob/main/Week7/LinAlg_58051_Ebdane_Matrices.ipynb\" target=\"_parent\"><img src=\"https://colab.research.google.com/assets/colab-badge.svg\" alt=\"Open In Colab\"/></a>"
      ]
    },
    {
      "cell_type": "code",
      "metadata": {
        "id": "u1JLn5wU107S"
      },
      "source": [
        "import numpy as np"
      ],
      "execution_count": 19,
      "outputs": []
    },
    {
      "cell_type": "code",
      "metadata": {
        "id": "FlwJ35lS2BPN"
      },
      "source": [
        "matrix_1 = np.array([ [2, 4, 7],\n",
        "                      [4, 9, 3],\n",
        "                      [8, 9, 6],\n",
        "                     ])\n",
        "matrix_2 = np.array([ [5, 7, 8],\n",
        "                      [3, 5, 9],\n",
        "                      [6, 8, 2],\n",
        "                     ]) \n",
        "matrix_3 = np.array([ [6, 2, 3],\n",
        "                      [7, 4, 5],\n",
        "                      [9, 8, 3],\n",
        "                     ])\n",
        "matrix_4 = np.array([ [3, 7, 9],\n",
        "                      [4, 6, 8],\n",
        "                      [3, 2, 6],\n",
        "                     ])"
      ],
      "execution_count": 20,
      "outputs": []
    },
    {
      "cell_type": "code",
      "metadata": {
        "id": "pwx1Yefw36h9"
      },
      "source": [
        "def mat_desc(matrix):\n",
        "  print(matrix)\n",
        "  if matrix.size > 0:\n",
        "\n",
        "    print(\"Shape: \", matrix.shape)\n",
        "    print(\"Size: \", matrix.size)\n",
        "    print(\"Rank: \", matrix.ndim)\n",
        "\n",
        "    square = True if matrix.shape[0] == matrix.shape[1] else False \n",
        "    print(\"Is the matrix square? \", square)\n",
        "\n",
        "    print(\"Is the matrix empy? NO\")\n",
        "\n",
        "    zeroes = not np.any(matrix)\n",
        "    print(\"Is the matrix zeroes? \", zeroes)\n",
        "\n",
        "    ones = np.all((matrix == 1))\n",
        "    print(\"Is the matrix ones? \", ones)\n",
        "\n",
        "    rows = len(matrix);\n",
        "    colums = len(matrix[0]);\n",
        "    identity = True\n",
        "    for iteration in range(0, rows):\n",
        "      for number in range (0, colums):\n",
        "        if(iteration == number and matrix[iteration][number] !=1):\n",
        "          identity = False\n",
        "        if(iteration != number and matrix[iteration][number] !=0):\n",
        "          identity = False\n",
        "\n",
        "    if identity:\n",
        "      print(\"Is the matrix identity? True\")\n",
        "    else:\n",
        "      print(\"Is the matrix identity? False\")\n",
        "\n",
        " \n",
        "  else:\n",
        "     print(\"Shape: N/A\")\n",
        "     print(\"Size: N/A\")\n",
        "     print(\"Rank: N/A\")\n",
        "     print(\"Is the matrix square? N/A\")\n",
        "     print(\"Is the matrix empty? YES\")\n",
        "     print(\"Is the matrix zero? N/A\")\n",
        "     print(\"Is the matrix ones? N/A\")\n",
        "     print(\"Is the matrix square? N/A\")\n",
        "     print(\"Is the matrix identity? N/A\")\n",
        "\n",
        "    \n",
        "  "
      ],
      "execution_count": 24,
      "outputs": []
    },
    {
      "cell_type": "code",
      "metadata": {
        "colab": {
          "base_uri": "https://localhost:8080/"
        },
        "id": "W8zzVqO_3d2f",
        "outputId": "f2e17fd2-d613-463f-a867-531554ec1af7"
      },
      "source": [
        "mat_desc(matrix_1)"
      ],
      "execution_count": 25,
      "outputs": [
        {
          "output_type": "stream",
          "text": [
            "[[2 4 7]\n",
            " [4 9 3]\n",
            " [8 9 6]]\n",
            "Shape:  (3, 3)\n",
            "Size:  9\n",
            "Rank:  2\n",
            "Is the matrix square?  True\n",
            "Is the matrix empy? NO\n",
            "Is the matrix zeroes?  False\n",
            "Is the matrix ones?  False\n",
            "Is the matrix identity? False\n"
          ],
          "name": "stdout"
        }
      ]
    },
    {
      "cell_type": "code",
      "metadata": {
        "id": "wx_hShbWHBOL"
      },
      "source": [
        "def mat_operations(P,E):\n",
        "  print(\"First Matrix: \\n\", P)\n",
        "  scalar_One = isinstance(P, (int, float, bytes, complex))\n",
        "  print(\"Is the Matrix Scalar? \\n\", scalar_One)\n",
        "\n",
        "  print(\"Second Matrix: \\n\", E)\n",
        "  scalar_Two = isinstance(E, (int, float, bytes, complex))\n",
        "  print(\"Is the Matrix Scalar? \\n\", scalar_Two)\n",
        "\n",
        "  matrix_One = isinstance(P, np.ndarray)\n",
        "  matrix_Two = isinstance(E, np.ndarray)\n",
        "\n",
        "  if scalar_One == True or scalar_Two == True or matrix_One == True or matrix_Two == True and A.shape == B.shape:\n",
        "    print(\"Addition: \\n\", P+E)\n",
        "    print(\"Subtraction: \\n\", P-E)\n",
        "    print(\"Multiplication: \\n\", P*E)\n",
        "    print(\"Division: \\n\", P/E)\n",
        "  elif matrix_Two == True and matrix_Two == True and A.shape!= B.shape:\n",
        "    print(\"Operation cannot be performed, shape must be equal\")\n"
      ],
      "execution_count": 35,
      "outputs": []
    },
    {
      "cell_type": "code",
      "metadata": {
        "colab": {
          "base_uri": "https://localhost:8080/"
        },
        "id": "tGcnV8FUNSgV",
        "outputId": "08ec3628-8076-47c5-9e4c-f53a386d7966"
      },
      "source": [
        "mat_operations(matrix_2, matrix_3)"
      ],
      "execution_count": 36,
      "outputs": [
        {
          "output_type": "stream",
          "text": [
            "First Matrix: \n",
            " [[5 7 8]\n",
            " [3 5 9]\n",
            " [6 8 2]]\n",
            "Is the Matrix Scalar? \n",
            " False\n",
            "Second Matrix: \n",
            " [[6 2 3]\n",
            " [7 4 5]\n",
            " [9 8 3]]\n",
            "Is the Matrix Scalar? \n",
            " False\n",
            "Addition: \n",
            " [[11  9 11]\n",
            " [10  9 14]\n",
            " [15 16  5]]\n",
            "Subtraction: \n",
            " [[-1  5  5]\n",
            " [-4  1  4]\n",
            " [-3  0 -1]]\n",
            "Multiplication: \n",
            " [[30 14 24]\n",
            " [21 20 45]\n",
            " [54 64  6]]\n",
            "Division: \n",
            " [[0.83333333 3.5        2.66666667]\n",
            " [0.42857143 1.25       1.8       ]\n",
            " [0.66666667 1.         0.66666667]]\n"
          ],
          "name": "stdout"
        }
      ]
    }
  ]
}