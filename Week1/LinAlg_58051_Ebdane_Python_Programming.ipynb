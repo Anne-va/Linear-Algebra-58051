{
  "nbformat": 4,
  "nbformat_minor": 0,
  "metadata": {
    "colab": {
      "name": "LinAlg 58051 Ebdane-Python Programming",
      "provenance": [],
      "collapsed_sections": [],
      "include_colab_link": true
    },
    "kernelspec": {
      "name": "python3",
      "display_name": "Python 3"
    }
  },
  "cells": [
    {
      "cell_type": "markdown",
      "metadata": {
        "id": "view-in-github",
        "colab_type": "text"
      },
      "source": [
        "<a href=\"https://colab.research.google.com/github/Anne-va/Linear-Algebra-58051/blob/main/Week1/LinAlg_58051_Ebdane_Python_Programming.ipynb\" target=\"_parent\"><img src=\"https://colab.research.google.com/assets/colab-badge.svg\" alt=\"Open In Colab\"/></a>"
      ]
    },
    {
      "cell_type": "code",
      "metadata": {
        "id": "g6SwPoRKiSQ1"
      },
      "source": [
        "name = input(\"Enter student name: \")\r\n",
        "program = input(\"Enter student program: \")\r\n",
        "prelims = float(input(\"Enter student prelim grade: \"))\r\n",
        "midterms = float(input(\"Enter student midtrem grade: \"))\r\n",
        "finals = float(input(\"Enter student final grade: \"))\r\n",
        "SG = float(0)\r\n",
        "\r\n",
        "prelims = prelims*0.3\r\n",
        "midterms = midterms*0.3\r\n",
        "finals = finals*0.4\r\n",
        "SG = prelims + midterms + finals\r\n",
        "\r\n",
        "happy, lol, sad = (\"\\U0001F600\",\"\\U0001F606\",\"\\U0001F62D\")\r\n",
        "\r\n",
        "if (SG > 70):\r\n",
        "    print(\"SG: {:.2f} \".format(SG), \"\\U0001F600\")\r\n",
        "\r\n",
        "if (SG == 70):\r\n",
        "    print(\"SG: {:.2f} \".format(SG), \"\\U0001F606\")\r\n",
        "\r\n",
        "if (SG < 70):\r\n",
        "    print(\"SG: {:.2f} \".format(SG), \"\\U0001F62D\")"
      ],
      "execution_count": null,
      "outputs": []
    }
  ]
}