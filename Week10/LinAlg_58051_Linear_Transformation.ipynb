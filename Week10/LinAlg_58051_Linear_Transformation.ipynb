{
  "nbformat": 4,
  "nbformat_minor": 0,
  "metadata": {
    "colab": {
      "name": "LinAlg-58051_Linear Transformation.ipynb",
      "provenance": [],
      "authorship_tag": "ABX9TyNN548OlX083h38LNSDnh5G",
      "include_colab_link": true
    },
    "kernelspec": {
      "display_name": "Python 3",
      "name": "python3"
    },
    "language_info": {
      "name": "python"
    }
  },
  "cells": [
    {
      "cell_type": "markdown",
      "metadata": {
        "id": "view-in-github",
        "colab_type": "text"
      },
      "source": [
        "<a href=\"https://colab.research.google.com/github/Anne-va/Linear-Algebra-58051/blob/main/Week10/LinAlg_58051_Linear_Transformation.ipynb\" target=\"_parent\"><img src=\"https://colab.research.google.com/assets/colab-badge.svg\" alt=\"Open In Colab\"/></a>"
      ]
    },
    {
      "cell_type": "code",
      "metadata": {
        "id": "Bf7uRuJHon6U"
      },
      "source": [
        "import numpy as np\n",
        "import matplotlib.pyplot as plt"
      ],
      "execution_count": 2,
      "outputs": []
    },
    {
      "cell_type": "code",
      "metadata": {
        "colab": {
          "base_uri": "https://localhost:8080/",
          "height": 269
        },
        "id": "2uTtfeT7oyg8",
        "outputId": "594371f1-bc17-436d-8dfc-0ccd5eff0392"
      },
      "source": [
        "P = np.array([[2,8],\n",
        "             [7,4]\n",
        "])\n",
        "\n",
        "a = np.arange(0,1,.15)\n",
        "\n",
        "plt.scatter(a*P[0,0], a*P[1,0], color = 'Pink')\n",
        "plt.scatter(a*P[0,1], a*P[1,1], color = 'Green')\n",
        "\n",
        "plt.xlim(-10, 10)\n",
        "plt.ylim(-10,10)\n",
        "plt.grid()\n",
        "plt.show()"
      ],
      "execution_count": null,
      "outputs": [
        {
          "output_type": "display_data",
          "data": {
            "image/png": "[encoded data removed]",
            "text/plain": [
              "<Figure size 432x288 with 1 Axes>"
            ]
          },
          "metadata": {
            "tags": []
          }
        }
      ]
    },
    {
      "cell_type": "code",
      "metadata": {
        "colab": {
          "base_uri": "https://localhost:8080/",
          "height": 269
        },
        "id": "Pm0pUXMgqXb4",
        "outputId": "44de89a0-e48e-4087-8ccd-eeab5fb69dda"
      },
      "source": [
        "Pa = np.array([[-2, -8],\n",
        "               [-7, -4]\n",
        "])\n",
        "\n",
        "a = np.arange(0,1,.20)\n",
        "\n",
        "plt.scatter(a*Pa[0,0], a*Pa[1,0], color = 'Pink')\n",
        "plt.scatter(a*Pa[0,1], a*Pa[1,1], color = 'Green')\n",
        "\n",
        "plt.xlim(-10,10)\n",
        "plt.ylim(-10,10)\n",
        "plt.grid()\n",
        "plt.show()"
      ],
      "execution_count": null,
      "outputs": [
        {
          "output_type": "display_data",
          "data": {
            "image/png": "[encoded data removed]",
            "text/plain": [
              "<Figure size 432x288 with 1 Axes>"
            ]
          },
          "metadata": {
            "tags": []
          }
        }
      ]
    },
    {
      "cell_type": "code",
      "metadata": {
        "colab": {
          "background_save": true
        },
        "id": "ZAEbqx6XsxrS",
        "outputId": "447d129a-e968-4a84-e05e-1842bea25f03"
      },
      "source": [
        "E = np.array([[4,1],\n",
        "              [2,4]\n",
        "])\n",
        "\n",
        "a = np.arange(0,1,.20)\n",
        "\n",
        "plt.scatter(a*E[0,0], a*E[1,0], color = 'Pink')\n",
        "plt.scatter(a*E[0,1], a*E[1,1], color = 'Green')\n",
        "\n",
        "plt.xlim(-10,10)\n",
        "plt.ylim(-10,10)\n",
        "plt.grid()\n",
        "plt.show()"
      ],
      "execution_count": null,
      "outputs": [
        {
          "output_type": "display_data",
          "data": {
            "image/png": "[encoded data removed]",
            "text/plain": [
              "<Figure size 432x288 with 1 Axes>"
            ]
          },
          "metadata": {
            "tags": []
          }
        }
      ]
    },
    {
      "cell_type": "code",
      "metadata": {
        "id": "_gTgjOHltzmq",
        "colab": {
          "base_uri": "https://localhost:8080/",
          "height": 269
        },
        "outputId": "58be9246-f02e-4aa5-a259-1addd995fcd3"
      },
      "source": [
        "E1 = np.array([[-4,-0],\n",
        "               [0,-4]\n",
        "])\n",
        "\n",
        "a = np.arange(0,1,.15)\n",
        "\n",
        "plt.scatter(a*E1[0,0], a*E1[1,0], color = 'Pink')\n",
        "plt.scatter(a*E1[0,1], a*E1[1,1], color = 'Green')\n",
        "\n",
        "plt.xlim(-10,10)\n",
        "plt.ylim(-10,10)\n",
        "plt.grid()\n",
        "plt.show()"
      ],
      "execution_count": 3,
      "outputs": [
        {
          "output_type": "display_data",
          "data": {
            "image/png": "[encoded data removed]",
            "text/plain": [
              "<Figure size 432x288 with 1 Axes>"
            ]
          },
          "metadata": {
            "tags": [],
            "needs_background": "light"
          }
        }
      ]
    },
    {
      "cell_type": "code",
      "metadata": {
        "id": "v44GvFyovHUt"
      },
      "source": [
        ""
      ],
      "execution_count": null,
      "outputs": []
    }
  ]
}