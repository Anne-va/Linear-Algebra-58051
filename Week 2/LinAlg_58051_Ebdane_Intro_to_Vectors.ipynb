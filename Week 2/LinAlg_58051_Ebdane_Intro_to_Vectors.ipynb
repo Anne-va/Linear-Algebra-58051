{
  "nbformat": 4,
  "nbformat_minor": 0,
  "metadata": {
    "colab": {
      "name": "LinAlg_58051_Ebdane_Intro to Vectors.ipynb",
      "provenance": [],
      "authorship_tag": "ABX9TyNO3LUwvvbgvZOq0UcqsAps",
      "include_colab_link": true
    },
    "kernelspec": {
      "name": "python3",
      "display_name": "Python 3"
    }
  },
  "cells": [
    {
      "cell_type": "markdown",
      "metadata": {
        "id": "view-in-github",
        "colab_type": "text"
      },
      "source": [
        "<a href=\"https://colab.research.google.com/github/Anne-va/Linear-Algebra-58051/blob/main/Week%202/LinAlg_58051_Ebdane_Intro_to_Vectors.ipynb\" target=\"_parent\"><img src=\"https://colab.research.google.com/assets/colab-badge.svg\" alt=\"Open In Colab\"/></a>"
      ]
    },
    {
      "cell_type": "markdown",
      "metadata": {
        "id": "pQR3IB1DMLAE"
      },
      "source": [
        "$$\r\n",
        "A = \\begin{bmatrix} 9\\\\ 17\\end{bmatrix},\r\n",
        "N = \\begin{bmatrix} -1\\\\ 2\\end{bmatrix},\r\n",
        "I = \\begin{bmatrix} 19\\\\ -11\\end{bmatrix},\r\n",
        "E = \\begin{bmatrix} -13\\\\ -2\\end{bmatrix},\r\n",
        "S = \\begin{bmatrix} 5\\\\ 7\\end{bmatrix}\\\\ $$"
      ]
    },
    {
      "cell_type": "code",
      "metadata": {
        "id": "d9yTuxQoJ6tI"
      },
      "source": [
        "import numpy as np\r\n",
        "import matplotlib.pyplot as plt\r\n",
        "\r\n",
        "A = np.array([9,17])\r\n",
        "N = np.array([-1,2])\r\n",
        "I = np.array([19,-11])\r\n",
        "E = np.array([-13,-2])\r\n",
        "S = np.array([5,7])"
      ],
      "execution_count": 8,
      "outputs": []
    },
    {
      "cell_type": "code",
      "metadata": {
        "colab": {
          "base_uri": "https://localhost:8080/",
          "height": 330
        },
        "id": "615ikYEuLe_R",
        "outputId": "9e0c95e5-28b7-4e10-9c24-9a59f929c01d"
      },
      "source": [
        "E1 = A+S\r\n",
        "E2 = N-E\r\n",
        "E3 = E1+E2\r\n",
        "print(\"A + I = \", E1)\r\n",
        "print(\"N - E = \", E2)\r\n",
        "print(\"E1 + E2 = \", E3)\r\n",
        "\r\n",
        "plt.xlim(-50, 50)\r\n",
        "plt.ylim(-50, 50)\r\n",
        "plt.axhline(y=0, color = 'pink')\r\n",
        "plt.axvline(x=0, color = 'blue')\r\n",
        "plt.xlabel(\"Y\")\r\n",
        "plt.ylabel(\"X\")\r\n",
        "\r\n",
        "plt.quiver(0,0, E1[0], E1[1], angles = 'xy', scale_units = 'xy', scale = 1, color = 'Yellow')\r\n",
        "plt.quiver(E1[0], E1[1], E2[0], E2[1], angles = 'xy', scale_units = 'xy', scale = 1, color = 'Red')\r\n",
        "plt.quiver(0,0, E3[0], E1[1], angles = 'xy', scale_units = 'xy', scale = 1, color = 'Green')\r\n",
        "\r\n",
        "plt.grid()\r\n",
        "plt.show()"
      ],
      "execution_count": 21,
      "outputs": [
        {
          "output_type": "stream",
          "text": [
            "A + I =  [14 24]\n",
            "N - E =  [32 -9]\n",
            "E1 + E2 =  [46 15]\n"
          ],
          "name": "stdout"
        },
        {
          "output_type": "display_data",
          "data": {
            "image/png": "[encoded data removed]",
            "text/plain": [
              "<Figure size 432x288 with 1 Axes>"
            ]
          },
          "metadata": {
            "tags": [],
            "needs_background": "light"
          }
        }
      ]
    },
    {
      "cell_type": "code",
      "metadata": {
        "colab": {
          "base_uri": "https://localhost:8080/"
        },
        "id": "f7Mae3frsK2T",
        "outputId": "7d4897cb-af3f-4a32-cb8c-e3d00669ec66"
      },
      "source": [
        "R = np.sqrt(np.sum(A**2+S**2))\r\n",
        "print(R)"
      ],
      "execution_count": 22,
      "outputs": [
        {
          "output_type": "stream",
          "text": [
            "21.071307505705477\n"
          ],
          "name": "stdout"
        }
      ]
    }
  ]
}