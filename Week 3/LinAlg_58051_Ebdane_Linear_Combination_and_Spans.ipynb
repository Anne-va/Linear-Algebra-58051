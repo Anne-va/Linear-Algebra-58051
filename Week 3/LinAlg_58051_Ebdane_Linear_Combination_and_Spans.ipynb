{
  "nbformat": 4,
  "nbformat_minor": 0,
  "metadata": {
    "colab": {
      "name": "LinAlg_58051_Ebdane_Linear Combination and Spans.ipynb",
      "provenance": [],
      "authorship_tag": "ABX9TyOp42LkKPlij8/9H027wdeD",
      "include_colab_link": true
    },
    "kernelspec": {
      "name": "python3",
      "display_name": "Python 3"
    }
  },
  "cells": [
    {
      "cell_type": "markdown",
      "metadata": {
        "id": "view-in-github",
        "colab_type": "text"
      },
      "source": [
        "<a href=\"https://colab.research.google.com/github/Anne-va/Linear-Algebra-58051/blob/main/Week%203/LinAlg_58051_Ebdane_Linear_Combination_and_Spans.ipynb\" target=\"_parent\"><img src=\"https://colab.research.google.com/assets/colab-badge.svg\" alt=\"Open In Colab\"/></a>"
      ]
    },
    {
      "cell_type": "markdown",
      "metadata": {
        "id": "uziI1SiqBfnp"
      },
      "source": [
        "$$ N = 3\\hat{x} + 7\\hat{y} \\\\\r\n",
        "I = 5\\hat{x} - 1\\hat{y}\\\\ \r\n",
        "M = 8\\hat{x} + 4\\hat{y} \\\\\r\n",
        "F = 9\\hat{x} - 10\\hat{y}\\\\\r\n",
        "A = 11\\hat{x} + 17\\hat{y}$$ $$ N = \\begin{bmatrix} 3\\\\ 7\\end{bmatrix},\r\n",
        "I = \\begin{bmatrix} 5\\\\ -1\\end{bmatrix},\r\n",
        "M = \\begin{bmatrix} 8\\\\ 4\\end{bmatrix},\r\n",
        "F = \\begin{bmatrix} 9\\\\ -10\\end{bmatrix},\r\n",
        "A = \\begin{bmatrix} 11\\\\ 17\\end{bmatrix}\\\\ $$"
      ]
    },
    {
      "cell_type": "code",
      "metadata": {
        "id": "ObcwDrdMBQqb"
      },
      "source": [
        "import numpy as np\r\n",
        "import matplotlib.pyplot as plt\r\n",
        "\r\n",
        "N = np.array([3,7])\r\n",
        "I = np.array([5,-1])\r\n",
        "M = np.array([8,4])\r\n",
        "F = np.array([9,10])\r\n",
        "A= np.array([11,17])"
      ],
      "execution_count": 1,
      "outputs": []
    },
    {
      "cell_type": "code",
      "metadata": {
        "colab": {
          "base_uri": "https://localhost:8080/"
        },
        "id": "CfNjslTxEmrS",
        "outputId": "21f700e4-1c20-4ee2-96af-629610b4f7e4"
      },
      "source": [
        "print(N, I, M, F, A)"
      ],
      "execution_count": 2,
      "outputs": [
        {
          "output_type": "stream",
          "text": [
            "[3 7] [ 5 -1] [8 4] [ 9 10] [11 17]\n"
          ],
          "name": "stdout"
        }
      ]
    },
    {
      "cell_type": "code",
      "metadata": {
        "colab": {
          "base_uri": "https://localhost:8080/"
        },
        "id": "S3MwKJWVEwWo",
        "outputId": "68eaf617-7220-42ae-9491-ead8398f1627"
      },
      "source": [
        "E1 = N + M + A\r\n",
        "E2 = F + I + M\r\n",
        "E3 = E1 + E2\r\n",
        "print(E3)"
      ],
      "execution_count": 3,
      "outputs": [
        {
          "output_type": "stream",
          "text": [
            "[44 41]\n"
          ],
          "name": "stdout"
        }
      ]
    },
    {
      "cell_type": "markdown",
      "metadata": {
        "id": "2TCfdI2eIl4B"
      },
      "source": [
        "$$S = \\begin{Bmatrix} c_1 \\cdot\\begin{bmatrix} 3\\\\7 \\\\\\end{bmatrix}, \r\n",
        "c_2 \\cdot \\begin{bmatrix} 5\\\\-1 \\\\\\end{bmatrix}\\end{Bmatrix} $$"
      ]
    },
    {
      "cell_type": "code",
      "metadata": {
        "colab": {
          "base_uri": "https://localhost:8080/",
          "height": 265
        },
        "id": "x7YCuWiUFFQM",
        "outputId": "19e2149f-6d71-4d8a-a6fb-939097fd8684"
      },
      "source": [
        "N = np.array([3,7])\r\n",
        "I = np.array([5,-1])\r\n",
        "\r\n",
        "S = np.arange(-4,5,0.4)\r\n",
        "\r\n",
        "c1, c2 = np.meshgrid (S,S)\r\n",
        "R = I + N\r\n",
        "spanRx = c1*N[0] + c2*I[0]\r\n",
        "spanRy = c1*N[1] + c2*I[1]\r\n",
        "plt.scatter(spanRx,spanRy, s=3, alpha=0.75, color = 'Purple')\r\n",
        "\r\n",
        "plt.xlim(-50,50)\r\n",
        "plt.ylim(-50,50)\r\n",
        "plt.axhline(y=0, color='Black')\r\n",
        "plt.axvline(x=0, color='Black')\r\n",
        "plt.grid()\r\n",
        "plt.show()"
      ],
      "execution_count": 44,
      "outputs": [
        {
          "output_type": "display_data",
          "data": {
            "image/png": "[encoded data removed]",
            "text/plain": [
              "<Figure size 432x288 with 1 Axes>"
            ]
          },
          "metadata": {
            "tags": [],
            "needs_background": "light"
          }
        }
      ]
    },
    {
      "cell_type": "markdown",
      "metadata": {
        "id": "6UVVBWV_OZTU"
      },
      "source": [
        "$$\r\n",
        "S = \\begin{Bmatrix} c_1 \\cdot\\begin{bmatrix} 3\\\\6\\\\9 \\\\\\end{bmatrix}, \r\n",
        "c_2 \\cdot \\begin{bmatrix} -6\\\\-2\\\\3\\\\\\end{bmatrix},\r\n",
        "c_3 \\cdot \\begin{bmatrix} 7\\\\0\\\\-4\\\\\\end{bmatrix},\r\n",
        "c_4 \\cdot \\begin{bmatrix} -1\\\\3\\\\5\\\\\\end{bmatrix},\r\n",
        "c_5 \\cdot \\begin{bmatrix} 5\\\\6\\\\1\\\\\\end{bmatrix}\\end{Bmatrix} $$"
      ]
    },
    {
      "cell_type": "code",
      "metadata": {
        "colab": {
          "base_uri": "https://localhost:8080/",
          "height": 269
        },
        "id": "GiRP6lw9LzDH",
        "outputId": "e049fd2c-2846-49e8-fc3e-37ed940c6a99"
      },
      "source": [
        "vectorP = np.array([3,6,9])\r\n",
        "vectorR = np.array([-6,-2,3])\r\n",
        "vectorE = np.array([7,0,-4])\r\n",
        "vectorI = np.array([-1,3,5])\r\n",
        "#vectorS = np.array([5,6,1])\r\n",
        "\r\n",
        "S = np.arange(-9,9,3.5)\r\n",
        "\r\n",
        "c1, c2, c3, c4= np.meshgrid(S,S,S,S)\r\n",
        "R = vectorP + vectorR + vectorE + vectorI #+ vectorS\r\n",
        "spanSx = c1*vectorP[0] + c2*vectorR[0] + c3*vectorE[0] + c4*vectorI[0] #- c5*vectorS[0]\r\n",
        "spanSy = c1*vectorP[1] + c2*vectorR[1] + c3*vectorE[1] + c4*vectorI[1] #+ c5*vectorS[1]\r\n",
        "plt.scatter(spanSx,spanSy, s=15, alpha=1, color = 'DarkRed')\r\n",
        "\r\n",
        "plt.xlim(-100,100)\r\n",
        "plt.ylim(-100,100)\r\n",
        "plt.axhline(y=0, color='Black')\r\n",
        "plt.axvline(x=0, color='Black')\r\n",
        "plt.grid()\r\n",
        "plt.show()"
      ],
      "execution_count": 40,
      "outputs": [
        {
          "output_type": "display_data",
          "data": {
            "image/png": "[encoded data removed]",
            "text/plain": [
              "<Figure size 432x288 with 1 Axes>"
            ]
          },
          "metadata": {
            "tags": [],
            "needs_background": "light"
          }
        }
      ]
    },
    {
      "cell_type": "markdown",
      "metadata": {
        "id": "VWOfLiBAUMtd"
      },
      "source": [
        "$$\r\n",
        "S = \\begin{Bmatrix} c_1 \\cdot\\begin{bmatrix} 5\\\\6\\\\7\\\\8 \\\\\\end{bmatrix}, \r\n",
        "c_2 \\cdot \\begin{bmatrix} -2\\\\-3\\\\4\\\\0\\end{bmatrix},\r\n",
        "c_3 \\cdot \\begin{bmatrix} 1\\\\5\\\\4\\\\3\\end{bmatrix}\\end{Bmatrix} $$"
      ]
    },
    {
      "cell_type": "code",
      "metadata": {
        "colab": {
          "base_uri": "https://localhost:8080/",
          "height": 265
        },
        "id": "tUBgYu26S4GS",
        "outputId": "e53bb743-6acd-47b7-b0c6-7ee509ca71ba"
      },
      "source": [
        "vectorA = np.array([5,6,7,8])\r\n",
        "vectorN = np.array([-2,-3,4,0])\r\n",
        "vectorE = np.array([1,5,4,3])\r\n",
        "\r\n",
        "S = np.arange (-5,5,0.50)\r\n",
        "\r\n",
        "c1, c2, c3= np.meshgrid(S,S,S)\r\n",
        "R = vectorA + vectorN + vectorE\r\n",
        "spanSx = c1*vectorA[0] + c2*vectorN[0] + c3*vectorE[0]\r\n",
        "spanSy = c1*vectorA[1] + c2*vectorN[1] + c3*vectorE[1]\r\n",
        "plt.scatter(spanSx,spanSy, s=15, alpha=1, color = 'Orchid')\r\n",
        "\r\n",
        "\r\n",
        "plt.xlim(-50,50)\r\n",
        "plt.ylim(-50,50)\r\n",
        "plt.axhline(y=0, color='Black')\r\n",
        "plt.axvline(x=0, color='Black')\r\n",
        "plt.grid()\r\n",
        "plt.show()"
      ],
      "execution_count": 45,
      "outputs": [
        {
          "output_type": "display_data",
          "data": {
            "image/png": "[encoded data removed]",
            "text/plain": [
              "<Figure size 432x288 with 1 Axes>"
            ]
          },
          "metadata": {
            "tags": [],
            "needs_background": "light"
          }
        }
      ]
    },
    {
      "cell_type": "markdown",
      "metadata": {
        "id": "cTu_zxtrzvTb"
      },
      "source": [
        "$$\r\n",
        "A = c\\cdot \\begin{bmatrix} 9\\\\4 \\\\\\end{bmatrix}\\\\\r\n",
        "B = c\\cdot \\begin{bmatrix} 3\\\\1 \\\\\\end{bmatrix}\\\\\r\n",
        "C = c\\cdot \\begin{bmatrix} 5\\\\-7 \\\\\\end{bmatrix}\\\\ $$"
      ]
    },
    {
      "cell_type": "code",
      "metadata": {
        "colab": {
          "base_uri": "https://localhost:8080/",
          "height": 269
        },
        "id": "_f7hxfJaX7y8",
        "outputId": "e33a1114-a9fc-4d53-ed8a-4f9508ae858b"
      },
      "source": [
        "A = np.array([9,4])\r\n",
        "B = np.array([3,1])\r\n",
        "C = np.array([5,-7])\r\n",
        "\r\n",
        "c = np.arange(-20,20,0.10)\r\n",
        "plt.scatter(c*A[0],c*A[1], color = 'Red')\r\n",
        "plt.scatter(c*B[0],c*B[1], color = 'DarkRed')\r\n",
        "plt.scatter(c*C[0],c*C[1], color = 'DarkOliveGreen')\r\n",
        "\r\n",
        "plt.xlim(-20,20)\r\n",
        "plt.ylim(-20,20)\r\n",
        "plt.axhline(y=0, color='Black')\r\n",
        "plt.axvline(x=0, color='Black')\r\n",
        "plt.grid()\r\n",
        "plt.show()"
      ],
      "execution_count": 47,
      "outputs": [
        {
          "output_type": "display_data",
          "data": {
            "image/png": "[encoded data removed]",
            "text/plain": [
              "<Figure size 432x288 with 1 Axes>"
            ]
          },
          "metadata": {
            "tags": [],
            "needs_background": "light"
          }
        }
      ]
    },
    {
      "cell_type": "code",
      "metadata": {
        "id": "jJdSiTpk1wNQ"
      },
      "source": [
        ""
      ],
      "execution_count": null,
      "outputs": []
    }
  ]
}